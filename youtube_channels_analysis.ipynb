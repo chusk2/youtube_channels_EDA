{
 "cells": [
  {
   "cell_type": "markdown",
   "id": "d4282523-cca0-4234-86c4-8b1e72bddddb",
   "metadata": {},
   "source": [
    "# Youtube Trending Videos Analysis  \n",
    "## Dataset from [Kaggle](https://www.kaggle.com/datasets/datasnaek/youtube-new?resource=download)"
   ]
  },
  {
   "cell_type": "markdown",
   "id": "c1177fdc-f5e3-4449-b6e3-0803ec466149",
   "metadata": {},
   "source": [
    "### Context\n",
    "\n",
    "YouTube (the world-famous video sharing website) maintains a list of the top trending videos on the platform. According to Variety magazine, “To determine the year’s top-trending videos, YouTube uses a combination of factors including measuring users interactions (number of views, shares, comments and likes). Note that they’re not the most-viewed videos overall for the calendar year”. Top performers on the YouTube trending list are music videos (such as the famously virile “Gangam Style”), celebrity and/or reality TV performances, and the random dude-with-a-camera viral videos that YouTube is well-known for.\n",
    "\n",
    "This dataset is a daily record of the top trending YouTube videos.\n",
    "\n",
    "Note that this dataset is a structurally improved version of [this dataset](https://www.kaggle.com/datasnaek/youtube).\n",
    "### Content\n",
    "\n",
    "This dataset includes several months (and counting) of data on daily trending YouTube videos. Data is included for the US, GB, DE, CA, and FR regions (USA, Great Britain, Germany, Canada, and France, respectively), with up to 200 listed trending videos per day."
   ]
  },
  {
   "cell_type": "markdown",
   "id": "13e971df-74fc-49d7-8d97-fe70a392721c",
   "metadata": {},
   "source": [
    "# Importation of libraries and dataset"
   ]
  },
  {
   "cell_type": "code",
   "execution_count": 1,
   "id": "be398216-d621-4a27-85e2-d09572dd7c8d",
   "metadata": {},
   "outputs": [],
   "source": [
    "import pandas as pd\n",
    "import numpy as np\n",
    "import matplotlib.pyplot as plt"
   ]
  },
  {
   "cell_type": "code",
   "execution_count": 2,
   "id": "d0fbf813-181e-4e03-9506-3fcfc5ec16d5",
   "metadata": {},
   "outputs": [],
   "source": [
    "df = pd.read_csv('USvideos.csv')"
   ]
  },
  {
   "cell_type": "markdown",
   "id": "b4686872-8784-454a-b04a-dc1a6be2ab39",
   "metadata": {},
   "source": [
    "# First inspection of dataset"
   ]
  },
  {
   "cell_type": "code",
   "execution_count": 3,
   "id": "95674a19-3148-4f10-bfd9-f2065c967e99",
   "metadata": {},
   "outputs": [
    {
     "data": {
      "text/html": [
       "<div>\n",
       "<style scoped>\n",
       "    .dataframe tbody tr th:only-of-type {\n",
       "        vertical-align: middle;\n",
       "    }\n",
       "\n",
       "    .dataframe tbody tr th {\n",
       "        vertical-align: top;\n",
       "    }\n",
       "\n",
       "    .dataframe thead th {\n",
       "        text-align: right;\n",
       "    }\n",
       "</style>\n",
       "<table border=\"1\" class=\"dataframe\">\n",
       "  <thead>\n",
       "    <tr style=\"text-align: right;\">\n",
       "      <th></th>\n",
       "      <th>0</th>\n",
       "      <th>1</th>\n",
       "      <th>2</th>\n",
       "    </tr>\n",
       "  </thead>\n",
       "  <tbody>\n",
       "    <tr>\n",
       "      <th>video_id</th>\n",
       "      <td>2kyS6SvSYSE</td>\n",
       "      <td>1ZAPwfrtAFY</td>\n",
       "      <td>5qpjK5DgCt4</td>\n",
       "    </tr>\n",
       "    <tr>\n",
       "      <th>trending_date</th>\n",
       "      <td>17.14.11</td>\n",
       "      <td>17.14.11</td>\n",
       "      <td>17.14.11</td>\n",
       "    </tr>\n",
       "    <tr>\n",
       "      <th>title</th>\n",
       "      <td>WE WANT TO TALK ABOUT OUR MARRIAGE</td>\n",
       "      <td>The Trump Presidency: Last Week Tonight with J...</td>\n",
       "      <td>Racist Superman | Rudy Mancuso, King Bach &amp; Le...</td>\n",
       "    </tr>\n",
       "    <tr>\n",
       "      <th>channel_title</th>\n",
       "      <td>CaseyNeistat</td>\n",
       "      <td>LastWeekTonight</td>\n",
       "      <td>Rudy Mancuso</td>\n",
       "    </tr>\n",
       "    <tr>\n",
       "      <th>category_id</th>\n",
       "      <td>22</td>\n",
       "      <td>24</td>\n",
       "      <td>23</td>\n",
       "    </tr>\n",
       "    <tr>\n",
       "      <th>publish_time</th>\n",
       "      <td>2017-11-13T17:13:01.000Z</td>\n",
       "      <td>2017-11-13T07:30:00.000Z</td>\n",
       "      <td>2017-11-12T19:05:24.000Z</td>\n",
       "    </tr>\n",
       "    <tr>\n",
       "      <th>tags</th>\n",
       "      <td>SHANtell martin</td>\n",
       "      <td>last week tonight trump presidency|\"last week ...</td>\n",
       "      <td>racist superman|\"rudy\"|\"mancuso\"|\"king\"|\"bach\"...</td>\n",
       "    </tr>\n",
       "    <tr>\n",
       "      <th>views</th>\n",
       "      <td>748374</td>\n",
       "      <td>2418783</td>\n",
       "      <td>3191434</td>\n",
       "    </tr>\n",
       "    <tr>\n",
       "      <th>likes</th>\n",
       "      <td>57527</td>\n",
       "      <td>97185</td>\n",
       "      <td>146033</td>\n",
       "    </tr>\n",
       "    <tr>\n",
       "      <th>dislikes</th>\n",
       "      <td>2966</td>\n",
       "      <td>6146</td>\n",
       "      <td>5339</td>\n",
       "    </tr>\n",
       "    <tr>\n",
       "      <th>comment_count</th>\n",
       "      <td>15954</td>\n",
       "      <td>12703</td>\n",
       "      <td>8181</td>\n",
       "    </tr>\n",
       "    <tr>\n",
       "      <th>thumbnail_link</th>\n",
       "      <td>https://i.ytimg.com/vi/2kyS6SvSYSE/default.jpg</td>\n",
       "      <td>https://i.ytimg.com/vi/1ZAPwfrtAFY/default.jpg</td>\n",
       "      <td>https://i.ytimg.com/vi/5qpjK5DgCt4/default.jpg</td>\n",
       "    </tr>\n",
       "    <tr>\n",
       "      <th>comments_disabled</th>\n",
       "      <td>False</td>\n",
       "      <td>False</td>\n",
       "      <td>False</td>\n",
       "    </tr>\n",
       "    <tr>\n",
       "      <th>ratings_disabled</th>\n",
       "      <td>False</td>\n",
       "      <td>False</td>\n",
       "      <td>False</td>\n",
       "    </tr>\n",
       "    <tr>\n",
       "      <th>video_error_or_removed</th>\n",
       "      <td>False</td>\n",
       "      <td>False</td>\n",
       "      <td>False</td>\n",
       "    </tr>\n",
       "    <tr>\n",
       "      <th>description</th>\n",
       "      <td>SHANTELL'S CHANNEL - https://www.youtube.com/s...</td>\n",
       "      <td>One year after the presidential election, John...</td>\n",
       "      <td>WATCH MY PREVIOUS VIDEO ▶ \\n\\nSUBSCRIBE ► http...</td>\n",
       "    </tr>\n",
       "  </tbody>\n",
       "</table>\n",
       "</div>"
      ],
      "text/plain": [
       "                                                                        0  \\\n",
       "video_id                                                      2kyS6SvSYSE   \n",
       "trending_date                                                    17.14.11   \n",
       "title                                  WE WANT TO TALK ABOUT OUR MARRIAGE   \n",
       "channel_title                                                CaseyNeistat   \n",
       "category_id                                                            22   \n",
       "publish_time                                     2017-11-13T17:13:01.000Z   \n",
       "tags                                                      SHANtell martin   \n",
       "views                                                              748374   \n",
       "likes                                                               57527   \n",
       "dislikes                                                             2966   \n",
       "comment_count                                                       15954   \n",
       "thumbnail_link             https://i.ytimg.com/vi/2kyS6SvSYSE/default.jpg   \n",
       "comments_disabled                                                   False   \n",
       "ratings_disabled                                                    False   \n",
       "video_error_or_removed                                              False   \n",
       "description             SHANTELL'S CHANNEL - https://www.youtube.com/s...   \n",
       "\n",
       "                                                                        1  \\\n",
       "video_id                                                      1ZAPwfrtAFY   \n",
       "trending_date                                                    17.14.11   \n",
       "title                   The Trump Presidency: Last Week Tonight with J...   \n",
       "channel_title                                             LastWeekTonight   \n",
       "category_id                                                            24   \n",
       "publish_time                                     2017-11-13T07:30:00.000Z   \n",
       "tags                    last week tonight trump presidency|\"last week ...   \n",
       "views                                                             2418783   \n",
       "likes                                                               97185   \n",
       "dislikes                                                             6146   \n",
       "comment_count                                                       12703   \n",
       "thumbnail_link             https://i.ytimg.com/vi/1ZAPwfrtAFY/default.jpg   \n",
       "comments_disabled                                                   False   \n",
       "ratings_disabled                                                    False   \n",
       "video_error_or_removed                                              False   \n",
       "description             One year after the presidential election, John...   \n",
       "\n",
       "                                                                        2  \n",
       "video_id                                                      5qpjK5DgCt4  \n",
       "trending_date                                                    17.14.11  \n",
       "title                   Racist Superman | Rudy Mancuso, King Bach & Le...  \n",
       "channel_title                                                Rudy Mancuso  \n",
       "category_id                                                            23  \n",
       "publish_time                                     2017-11-12T19:05:24.000Z  \n",
       "tags                    racist superman|\"rudy\"|\"mancuso\"|\"king\"|\"bach\"...  \n",
       "views                                                             3191434  \n",
       "likes                                                              146033  \n",
       "dislikes                                                             5339  \n",
       "comment_count                                                        8181  \n",
       "thumbnail_link             https://i.ytimg.com/vi/5qpjK5DgCt4/default.jpg  \n",
       "comments_disabled                                                   False  \n",
       "ratings_disabled                                                    False  \n",
       "video_error_or_removed                                              False  \n",
       "description             WATCH MY PREVIOUS VIDEO ▶ \\n\\nSUBSCRIBE ► http...  "
      ]
     },
     "execution_count": 3,
     "metadata": {},
     "output_type": "execute_result"
    }
   ],
   "source": [
    "df.head(3).T"
   ]
  },
  {
   "cell_type": "markdown",
   "id": "0b7ffbc5-4129-4f1f-b3a8-3355ea6f6fba",
   "metadata": {},
   "source": [
    "### Dataset shape"
   ]
  },
  {
   "cell_type": "code",
   "execution_count": 4,
   "id": "6465d607-4935-4f67-980c-581535bf274b",
   "metadata": {},
   "outputs": [
    {
     "data": {
      "text/plain": [
       "(40949, 16)"
      ]
     },
     "execution_count": 4,
     "metadata": {},
     "output_type": "execute_result"
    }
   ],
   "source": [
    "df.shape"
   ]
  },
  {
   "cell_type": "markdown",
   "id": "a4bed783-d111-4455-aa8e-fa5d58edb697",
   "metadata": {},
   "source": [
    "### Check dtypes"
   ]
  },
  {
   "cell_type": "code",
   "execution_count": 5,
   "id": "1bbf5b11-ed14-4703-acb1-ff8aa0df2e42",
   "metadata": {},
   "outputs": [
    {
     "name": "stdout",
     "output_type": "stream",
     "text": [
      "<class 'pandas.core.frame.DataFrame'>\n",
      "RangeIndex: 40949 entries, 0 to 40948\n",
      "Data columns (total 16 columns):\n",
      " #   Column                  Non-Null Count  Dtype \n",
      "---  ------                  --------------  ----- \n",
      " 0   video_id                40949 non-null  object\n",
      " 1   trending_date           40949 non-null  object\n",
      " 2   title                   40949 non-null  object\n",
      " 3   channel_title           40949 non-null  object\n",
      " 4   category_id             40949 non-null  int64 \n",
      " 5   publish_time            40949 non-null  object\n",
      " 6   tags                    40949 non-null  object\n",
      " 7   views                   40949 non-null  int64 \n",
      " 8   likes                   40949 non-null  int64 \n",
      " 9   dislikes                40949 non-null  int64 \n",
      " 10  comment_count           40949 non-null  int64 \n",
      " 11  thumbnail_link          40949 non-null  object\n",
      " 12  comments_disabled       40949 non-null  bool  \n",
      " 13  ratings_disabled        40949 non-null  bool  \n",
      " 14  video_error_or_removed  40949 non-null  bool  \n",
      " 15  description             40379 non-null  object\n",
      "dtypes: bool(3), int64(5), object(8)\n",
      "memory usage: 4.2+ MB\n"
     ]
    }
   ],
   "source": [
    "df.info()"
   ]
  },
  {
   "cell_type": "markdown",
   "id": "db0ba6de-6372-4a5d-8d47-685633a12a2d",
   "metadata": {},
   "source": [
    "### Check missing values"
   ]
  },
  {
   "cell_type": "code",
   "execution_count": 6,
   "id": "d5c3bf86-0a16-45df-99bc-94ab73bd077d",
   "metadata": {},
   "outputs": [
    {
     "data": {
      "text/plain": [
       "video_id                    0\n",
       "trending_date               0\n",
       "title                       0\n",
       "channel_title               0\n",
       "category_id                 0\n",
       "publish_time                0\n",
       "tags                        0\n",
       "views                       0\n",
       "likes                       0\n",
       "dislikes                    0\n",
       "comment_count               0\n",
       "thumbnail_link              0\n",
       "comments_disabled           0\n",
       "ratings_disabled            0\n",
       "video_error_or_removed      0\n",
       "description               570\n",
       "dtype: int64"
      ]
     },
     "execution_count": 6,
     "metadata": {},
     "output_type": "execute_result"
    }
   ],
   "source": [
    "df.isna().sum()"
   ]
  },
  {
   "cell_type": "markdown",
   "id": "d1bc87bf-f184-4340-97ad-b31870e025bf",
   "metadata": {},
   "source": [
    "# Data Cleaning"
   ]
  },
  {
   "cell_type": "markdown",
   "id": "10eca339-b827-4601-9789-fbb070f6a84b",
   "metadata": {},
   "source": [
    "## Removal of unuseful variables  \n",
    "I don't think I will use the thumbnail links"
   ]
  },
  {
   "cell_type": "code",
   "execution_count": 7,
   "id": "f4d71a03-5700-4078-a9cf-4ca6c7cb3ea6",
   "metadata": {},
   "outputs": [],
   "source": [
    "keep_vars = [i for i in df.columns if i != 'thumbnail_link']\n",
    "df = df[keep_vars]\n"
   ]
  },
  {
   "cell_type": "markdown",
   "id": "67571b9b-e360-4e6d-8fb5-ddd6166a5acd",
   "metadata": {},
   "source": [
    "Remove the `video_id` variable:"
   ]
  },
  {
   "cell_type": "code",
   "execution_count": 8,
   "id": "0034f901-45f6-45dc-a55e-9f73c3e1b2f5",
   "metadata": {},
   "outputs": [],
   "source": [
    "df = df.loc[:,df.columns[1:] ]"
   ]
  },
  {
   "cell_type": "markdown",
   "id": "8bd7f315-51f2-4510-83e0-3bbbad32c266",
   "metadata": {},
   "source": [
    "## Convert date variables to datetime dtype"
   ]
  },
  {
   "cell_type": "code",
   "execution_count": 9,
   "id": "b42920fd-9659-45f6-b094-95729e36685f",
   "metadata": {},
   "outputs": [
    {
     "data": {
      "text/plain": [
       "array(['18.28.01', '18.22.04', '18.03.06', '18.01.01', '18.23.02',\n",
       "       '18.07.05', '18.12.06', '18.04.04', '18.04.01', '17.20.11'],\n",
       "      dtype=object)"
      ]
     },
     "execution_count": 9,
     "metadata": {},
     "output_type": "execute_result"
    }
   ],
   "source": [
    "df.trending_date.sample(10).values"
   ]
  },
  {
   "cell_type": "code",
   "execution_count": 10,
   "id": "b01f801e-c610-4b52-8ac6-61a21687b5d6",
   "metadata": {},
   "outputs": [
    {
     "data": {
      "text/plain": [
       "array(['2018-01-19T16:51:07.000Z', '2018-04-24T15:00:03.000Z',\n",
       "       '2018-05-29T18:41:24.000Z', '2018-03-16T19:00:16.000Z',\n",
       "       '2018-02-12T17:00:52.000Z', '2018-03-15T17:00:05.000Z',\n",
       "       '2018-02-26T11:09:32.000Z', '2017-11-25T15:12:26.000Z',\n",
       "       '2018-03-16T16:00:14.000Z', '2018-02-05T02:22:18.000Z'],\n",
       "      dtype=object)"
      ]
     },
     "execution_count": 10,
     "metadata": {},
     "output_type": "execute_result"
    }
   ],
   "source": [
    "df.publish_time.sample(10).values"
   ]
  },
  {
   "cell_type": "markdown",
   "id": "0d180d8d-d1f5-4129-8d71-e936bacac806",
   "metadata": {},
   "source": [
    "The dates seem to be in the format: YY.DD.MM"
   ]
  },
  {
   "cell_type": "code",
   "execution_count": 11,
   "id": "26259dab-27e2-4682-84e8-e4f47a8ba0a1",
   "metadata": {
    "scrolled": true
   },
   "outputs": [],
   "source": [
    "df.trending_date = pd.to_datetime(df.trending_date, format='%y.%d.%m')"
   ]
  },
  {
   "cell_type": "code",
   "execution_count": 12,
   "id": "f57f225b-7f00-49b3-9f88-44a481abdc8c",
   "metadata": {
    "scrolled": true
   },
   "outputs": [],
   "source": [
    "df.publish_time = pd.to_datetime(df.publish_time)"
   ]
  },
  {
   "cell_type": "markdown",
   "id": "e9721ec3-1b44-4d95-b178-5ac2273b371d",
   "metadata": {},
   "source": [
    "After conversion, let's check dtypes again:"
   ]
  },
  {
   "cell_type": "code",
   "execution_count": 13,
   "id": "6829bf26-8689-4627-a775-879ec38e923e",
   "metadata": {},
   "outputs": [
    {
     "data": {
      "text/plain": [
       "trending_date                  datetime64[ns]\n",
       "title                                  object\n",
       "channel_title                          object\n",
       "category_id                             int64\n",
       "publish_time              datetime64[ns, UTC]\n",
       "tags                                   object\n",
       "views                                   int64\n",
       "likes                                   int64\n",
       "dislikes                                int64\n",
       "comment_count                           int64\n",
       "comments_disabled                        bool\n",
       "ratings_disabled                         bool\n",
       "video_error_or_removed                   bool\n",
       "description                            object\n",
       "dtype: object"
      ]
     },
     "execution_count": 13,
     "metadata": {},
     "output_type": "execute_result"
    }
   ],
   "source": [
    "df.dtypes"
   ]
  },
  {
   "cell_type": "markdown",
   "id": "ca4e64ed-d844-4a17-9723-9649618f143e",
   "metadata": {},
   "source": [
    "## Clean the text variables"
   ]
  },
  {
   "cell_type": "code",
   "execution_count": 14,
   "id": "167a889b-ef6e-481a-a013-f2216a162216",
   "metadata": {},
   "outputs": [
    {
     "data": {
      "text/plain": [
       "Index(['title', 'channel_title', 'tags', 'description'], dtype='object')"
      ]
     },
     "execution_count": 14,
     "metadata": {},
     "output_type": "execute_result"
    }
   ],
   "source": [
    "df.select_dtypes('object').columns"
   ]
  },
  {
   "cell_type": "markdown",
   "id": "b6c41779-51ac-4d1c-ba3b-0d0df4c0a168",
   "metadata": {},
   "source": [
    "### Titles"
   ]
  },
  {
   "cell_type": "markdown",
   "id": "96cdac35-971f-4fd9-b8d6-c05c06d466f3",
   "metadata": {},
   "source": [
    "Change titles to a proper case"
   ]
  },
  {
   "cell_type": "code",
   "execution_count": 15,
   "id": "01763fc9-c8b5-4518-8190-3c6fe91e6237",
   "metadata": {},
   "outputs": [
    {
     "data": {
      "text/plain": [
       "33067           Jason Mraz  - Have It All [Official Video]\n",
       "18634    The Talk - Piers Morgan Goes Off on Omarosa, f...\n",
       "40350    Town Hall 12 Update is Here! (Clash of Clans O...\n",
       "22115          Getting Delay, without using any effects...\n",
       "12830    Remy Ma - Melanin Magic (Pretty Brown) (Audio)...\n",
       "22518                      Voice Activated Hot Dog Blaster\n",
       "34878                    WEIRD PRODUCTS | Tati Approved???\n",
       "20806                  The French Toast Breakfast Sandwich\n",
       "4522                                         Flinch w/ BTS\n",
       "21121    The myth of Thor's journey to the land of gian...\n",
       "Name: title, dtype: object"
      ]
     },
     "execution_count": 15,
     "metadata": {},
     "output_type": "execute_result"
    }
   ],
   "source": [
    "df.title.sample(10)"
   ]
  },
  {
   "cell_type": "code",
   "execution_count": 16,
   "id": "f4ab2410-0578-4e50-bd14-b6c75e54046a",
   "metadata": {},
   "outputs": [],
   "source": [
    "df.title = df.title.str.capitalize()"
   ]
  },
  {
   "cell_type": "markdown",
   "id": "a1d4ba2c-35ce-451f-96ed-0ec7fc3a8e86",
   "metadata": {},
   "source": [
    "### Channel title"
   ]
  },
  {
   "cell_type": "code",
   "execution_count": 17,
   "id": "f88597e4-535a-48be-a51d-99d65bc1a78d",
   "metadata": {},
   "outputs": [
    {
     "data": {
      "text/plain": [
       "24461                 BrettYoungVEVO\n",
       "21774                        INSIDER\n",
       "35737           Marvel Entertainment\n",
       "7235                        CBS News\n",
       "34320              Jaiden Animations\n",
       "328                         ABC News\n",
       "32023    Sony Pictures Entertainment\n",
       "19578              Jimmy Kimmel Live\n",
       "23882               LIVEKellyandRyan\n",
       "12296                 TroyeSivanVEVO\n",
       "Name: channel_title, dtype: object"
      ]
     },
     "execution_count": 17,
     "metadata": {},
     "output_type": "execute_result"
    }
   ],
   "source": [
    "df.channel_title.sample(10)"
   ]
  },
  {
   "cell_type": "markdown",
   "id": "dae127fc-25ec-4f47-8e68-913ce4165e53",
   "metadata": {},
   "source": [
    "### Categories"
   ]
  },
  {
   "cell_type": "code",
   "execution_count": 18,
   "id": "1689d37d-1b87-454a-bcf6-7348d0be7074",
   "metadata": {},
   "outputs": [
    {
     "data": {
      "text/plain": [
       "array([22, 24, 23, 28,  1, 25, 17, 10, 15, 27, 26,  2, 19, 20, 29, 43])"
      ]
     },
     "execution_count": 18,
     "metadata": {},
     "output_type": "execute_result"
    }
   ],
   "source": [
    "df.category_id.unique()"
   ]
  },
  {
   "cell_type": "markdown",
   "id": "b0f6d19f-f431-4e54-bcef-f16ea33b09a8",
   "metadata": {},
   "source": [
    "Translate category id into a string, using this github resource:  [dgp/youtube api video category id list](https://gist.github.com/dgp/1b24bf2961521bd75d6c)"
   ]
  },
  {
   "cell_type": "code",
   "execution_count": 19,
   "id": "4d0d0d61-8e53-4e07-ac04-61230559aa45",
   "metadata": {
    "jupyter": {
     "source_hidden": true
    }
   },
   "outputs": [],
   "source": [
    "categories = \"\"\"\n",
    "2 - Autos & Vehicles\n",
    "1 -  Film & Animation\n",
    "10 - Music\n",
    "15 - Pets & Animals\n",
    "17 - Sports\n",
    "18 - Short Movies\n",
    "19 - Travel & Events\n",
    "20 - Gaming\n",
    "21 - Videoblogging\n",
    "22 - People & Blogs\n",
    "23 - Comedy\n",
    "24 - Entertainment\n",
    "25 - News & Politics\n",
    "26 - Howto & Style\n",
    "27 - Education\n",
    "28 - Science & Technology\n",
    "29 - Nonprofits & Activism\n",
    "30 - Movies\n",
    "31 - Anime/Animation\n",
    "32 - Action/Adventure\n",
    "33 - Classics\n",
    "34 - Comedy\n",
    "35 - Documentary\n",
    "36 - Drama\n",
    "37 - Family\n",
    "38 - Foreign\n",
    "39 - Horror\n",
    "40 - Sci-Fi/Fantasy\n",
    "41 - Thriller\n",
    "42 - Shorts\n",
    "43 - Shows\n",
    "44 - Trailers\"\"\""
   ]
  },
  {
   "cell_type": "code",
   "execution_count": 20,
   "id": "e6aaae9d-8f28-4f7a-b46e-fe401a2e5255",
   "metadata": {},
   "outputs": [
    {
     "data": {
      "text/plain": [
       "['2 - Autos & Vehicles',\n",
       " '1 -  Film & Animation',\n",
       " '10 - Music',\n",
       " '15 - Pets & Animals',\n",
       " '17 - Sports']"
      ]
     },
     "execution_count": 20,
     "metadata": {},
     "output_type": "execute_result"
    }
   ],
   "source": [
    "categories = categories.split('\\n')[1:]\n",
    "categories[:5]"
   ]
  },
  {
   "cell_type": "code",
   "execution_count": 21,
   "id": "8f9b9c14-fbad-4ac4-875c-4c2ae5c49551",
   "metadata": {},
   "outputs": [],
   "source": [
    "categories = [i.split(' - ')[::1] for i in categories]"
   ]
  },
  {
   "cell_type": "code",
   "execution_count": 22,
   "id": "6aea04e0-94d5-4849-a637-59af08078b49",
   "metadata": {},
   "outputs": [
    {
     "data": {
      "text/plain": [
       "12    [25, News & Politics]\n",
       "4              [17, Sports]\n",
       "5        [18, Short Movies]\n",
       "dtype: object"
      ]
     },
     "execution_count": 22,
     "metadata": {},
     "output_type": "execute_result"
    }
   ],
   "source": [
    "pd.Series(categories).sample(3)"
   ]
  },
  {
   "cell_type": "code",
   "execution_count": 23,
   "id": "b563ac39-b11a-4f01-9161-93a72004de3b",
   "metadata": {},
   "outputs": [],
   "source": [
    "categories = {int(i[0]): i[1] for i in categories}"
   ]
  },
  {
   "cell_type": "code",
   "execution_count": 24,
   "id": "57ab9a35-96b8-4fc1-bde9-6fae17d0f1c2",
   "metadata": {},
   "outputs": [],
   "source": [
    "df['category'] = df.category_id.apply(lambda x : categories[x])"
   ]
  },
  {
   "cell_type": "code",
   "execution_count": 25,
   "id": "75e90e3f-8623-446b-9813-9c4cf406ac0c",
   "metadata": {},
   "outputs": [
    {
     "data": {
      "text/plain": [
       "array(['People & Blogs', 'Entertainment', 'Comedy',\n",
       "       'Science & Technology', ' Film & Animation', 'News & Politics',\n",
       "       'Sports', 'Music', 'Pets & Animals', 'Education', 'Howto & Style',\n",
       "       'Autos & Vehicles', 'Travel & Events', 'Gaming',\n",
       "       'Nonprofits & Activism', 'Shows'], dtype=object)"
      ]
     },
     "execution_count": 25,
     "metadata": {},
     "output_type": "execute_result"
    }
   ],
   "source": [
    "df.category.unique()"
   ]
  },
  {
   "cell_type": "markdown",
   "id": "4b7e984e-4c5c-4b6f-95b7-ead7c207823d",
   "metadata": {},
   "source": [
    "### Tags"
   ]
  },
  {
   "cell_type": "code",
   "execution_count": 26,
   "id": "5a008c0b-bd5e-469b-b719-e12e1324ec45",
   "metadata": {},
   "outputs": [
    {
     "data": {
      "text/plain": [
       "24698    Tiny House|\"Tiny Home\"|\"Tiny House Australia\"|...\n",
       "27207    cooking a steak with salt|\"cooking a steak wit...\n",
       "30083    PLJic7bfGlo3occ87QSlmV7UfA3W3yYzHW|\"PLJic7bfGl...\n",
       "28344    humor|\"cyanide & happiness\"|\"explosm.net\"|\"sho...\n",
       "2664     laser cutter|\"william osman\"|\"crappy science\"|...\n",
       "Name: tags, dtype: object"
      ]
     },
     "execution_count": 26,
     "metadata": {},
     "output_type": "execute_result"
    }
   ],
   "source": [
    "df.tags.sample(5)"
   ]
  },
  {
   "cell_type": "markdown",
   "id": "fbd03c31-539d-4935-a818-11ad2fb34c6c",
   "metadata": {},
   "source": [
    "From a previous run of the `df.tags.sample()` function, I found that some videos have as tag: `[none]`. I will substitute by an empty string."
   ]
  },
  {
   "cell_type": "code",
   "execution_count": 27,
   "id": "5f343c34-107f-4b98-ac21-f30fea3a1a0e",
   "metadata": {},
   "outputs": [],
   "source": [
    "df.loc[df.tags == '[none]', 'tags'] = None"
   ]
  },
  {
   "cell_type": "code",
   "execution_count": 28,
   "id": "7a9bf34b-7ba3-4233-ab1c-90268ae9f5c9",
   "metadata": {},
   "outputs": [],
   "source": [
    "df.tags = df.tags.apply(lambda x : x.replace('\"', '').split('|') if x is not None else x )"
   ]
  },
  {
   "cell_type": "markdown",
   "id": "f64566bb-f78b-4d75-b5dd-1cb3e8bdf276",
   "metadata": {},
   "source": [
    "Now I will trim the whitespaces for the different tags"
   ]
  },
  {
   "cell_type": "code",
   "execution_count": 29,
   "id": "a815b201-0cab-4879-8546-522e7dfbdd6d",
   "metadata": {},
   "outputs": [],
   "source": [
    "df.tags = df.tags.apply(lambda x : [i.strip().lower() for i in x] if x is not None else x)"
   ]
  },
  {
   "cell_type": "code",
   "execution_count": 30,
   "id": "bb97bdce-b05a-4237-b81f-9725698f8955",
   "metadata": {},
   "outputs": [
    {
     "data": {
      "text/plain": [
       "35706    [carli, bybel, google picks my makeup, challen...\n",
       "7624     [wwe, world wrestling entertainment, wrestling...\n",
       "3256     [refinery29, refinery 29, r29, r29 video, refi...\n",
       "13837    [iisuperwomanii, superwoman, team super, comed...\n",
       "37293    [buzzfeed, worth it, cheap vs. expensive, stev...\n",
       "5292           [greyson chance, paparazzi, lady gaga, low]\n",
       "2880     [mousetrap car, thebackyardscientist, mousetra...\n",
       "34627    [adam dunn, adam dunn strikeouts, adam dunn ho...\n",
       "3046     [iphone x, iphone x review, iphone, review, ap...\n",
       "28478    [the nerdwriter, nerdwriter, nerdwriter youtub...\n",
       "Name: tags, dtype: object"
      ]
     },
     "execution_count": 30,
     "metadata": {},
     "output_type": "execute_result"
    }
   ],
   "source": [
    "df.tags.sample(10)"
   ]
  },
  {
   "cell_type": "markdown",
   "id": "1745b676-02cb-4d7a-9a2a-39c8c49ec639",
   "metadata": {},
   "source": [
    "# Export the clean dataset"
   ]
  },
  {
   "cell_type": "markdown",
   "id": "0c7517df-190c-4cfa-a911-03bc1d5a8534",
   "metadata": {},
   "source": [
    "## Rearrange the columns"
   ]
  },
  {
   "cell_type": "code",
   "execution_count": 31,
   "id": "e9d34261-ce3c-45d8-81ac-56aac2293384",
   "metadata": {},
   "outputs": [],
   "source": [
    "new_order = 'title, channel_title, publish_time, trending_date, category_id, category, description, tags, views, likes, dislikes, comment_count, comments_disabled, ratings_disabled, video_error_or_removed'.split(', ')"
   ]
  },
  {
   "cell_type": "code",
   "execution_count": 32,
   "id": "5ac5a8f5-eb86-4a67-bc7c-9ed0dda87525",
   "metadata": {
    "scrolled": true
   },
   "outputs": [],
   "source": [
    "df = df[new_order]"
   ]
  },
  {
   "cell_type": "markdown",
   "id": "a385a46f-0ddb-4648-936f-b92d0dfa998a",
   "metadata": {},
   "source": [
    "## Take a sample of clean dataset"
   ]
  },
  {
   "cell_type": "code",
   "execution_count": 77,
   "id": "c18e3fc8-0fc5-44e9-a990-e59fdf7a7a6a",
   "metadata": {},
   "outputs": [
    {
     "data": {
      "text/html": [
       "<div>\n",
       "<style scoped>\n",
       "    .dataframe tbody tr th:only-of-type {\n",
       "        vertical-align: middle;\n",
       "    }\n",
       "\n",
       "    .dataframe tbody tr th {\n",
       "        vertical-align: top;\n",
       "    }\n",
       "\n",
       "    .dataframe thead th {\n",
       "        text-align: right;\n",
       "    }\n",
       "</style>\n",
       "<table border=\"1\" class=\"dataframe\">\n",
       "  <thead>\n",
       "    <tr style=\"text-align: right;\">\n",
       "      <th></th>\n",
       "      <th>10713</th>\n",
       "      <th>14183</th>\n",
       "      <th>26869</th>\n",
       "    </tr>\n",
       "  </thead>\n",
       "  <tbody>\n",
       "    <tr>\n",
       "      <th>title</th>\n",
       "      <td>Camila cabello - havana ( cover by big marvel )</td>\n",
       "      <td>When you and your mates go snow boarding for t...</td>\n",
       "      <td>Dem beats (ft. rupaul) by todrick hall</td>\n",
       "    </tr>\n",
       "    <tr>\n",
       "      <th>channel_title</th>\n",
       "      <td>Big Marvel</td>\n",
       "      <td>Funny News</td>\n",
       "      <td>todrickhall</td>\n",
       "    </tr>\n",
       "    <tr>\n",
       "      <th>publish_time</th>\n",
       "      <td>2018-01-01 12:33:16+00:00</td>\n",
       "      <td>2018-01-22 00:08:49+00:00</td>\n",
       "      <td>2018-03-22 22:16:17+00:00</td>\n",
       "    </tr>\n",
       "    <tr>\n",
       "      <th>trending_date</th>\n",
       "      <td>2018-01-05 00:00:00+00:00</td>\n",
       "      <td>2018-01-24 00:00:00+00:00</td>\n",
       "      <td>2018-04-07 00:00:00+00:00</td>\n",
       "    </tr>\n",
       "    <tr>\n",
       "      <th>category_id</th>\n",
       "      <td>10</td>\n",
       "      <td>22</td>\n",
       "      <td>24</td>\n",
       "    </tr>\n",
       "    <tr>\n",
       "      <th>category</th>\n",
       "      <td>Music</td>\n",
       "      <td>People &amp; Blogs</td>\n",
       "      <td>Entertainment</td>\n",
       "    </tr>\n",
       "    <tr>\n",
       "      <th>description</th>\n",
       "      <td>thank you for watching this video please like ...</td>\n",
       "      <td>Lol - Subscribe to my new channel that will co...</td>\n",
       "      <td>DOWNLOAD DEM BEATS on iTunes: https://itunes.a...</td>\n",
       "    </tr>\n",
       "    <tr>\n",
       "      <th>tags</th>\n",
       "      <td>[camila cabello, havana, big marvel]</td>\n",
       "      <td>None</td>\n",
       "      <td>[todrick hall, mtv, american idol, beyonce, fl...</td>\n",
       "    </tr>\n",
       "    <tr>\n",
       "      <th>views</th>\n",
       "      <td>454886</td>\n",
       "      <td>531511</td>\n",
       "      <td>1537417</td>\n",
       "    </tr>\n",
       "    <tr>\n",
       "      <th>likes</th>\n",
       "      <td>41484</td>\n",
       "      <td>4626</td>\n",
       "      <td>64534</td>\n",
       "    </tr>\n",
       "    <tr>\n",
       "      <th>dislikes</th>\n",
       "      <td>412</td>\n",
       "      <td>169</td>\n",
       "      <td>1877</td>\n",
       "    </tr>\n",
       "    <tr>\n",
       "      <th>comment_count</th>\n",
       "      <td>2853</td>\n",
       "      <td>350</td>\n",
       "      <td>4321</td>\n",
       "    </tr>\n",
       "    <tr>\n",
       "      <th>comments_disabled</th>\n",
       "      <td>False</td>\n",
       "      <td>False</td>\n",
       "      <td>False</td>\n",
       "    </tr>\n",
       "    <tr>\n",
       "      <th>ratings_disabled</th>\n",
       "      <td>False</td>\n",
       "      <td>False</td>\n",
       "      <td>False</td>\n",
       "    </tr>\n",
       "    <tr>\n",
       "      <th>video_error_or_removed</th>\n",
       "      <td>False</td>\n",
       "      <td>False</td>\n",
       "      <td>False</td>\n",
       "    </tr>\n",
       "  </tbody>\n",
       "</table>\n",
       "</div>"
      ],
      "text/plain": [
       "                                                                    10713  \\\n",
       "title                     Camila cabello - havana ( cover by big marvel )   \n",
       "channel_title                                                  Big Marvel   \n",
       "publish_time                                    2018-01-01 12:33:16+00:00   \n",
       "trending_date                                   2018-01-05 00:00:00+00:00   \n",
       "category_id                                                            10   \n",
       "category                                                            Music   \n",
       "description             thank you for watching this video please like ...   \n",
       "tags                                 [camila cabello, havana, big marvel]   \n",
       "views                                                              454886   \n",
       "likes                                                               41484   \n",
       "dislikes                                                              412   \n",
       "comment_count                                                        2853   \n",
       "comments_disabled                                                   False   \n",
       "ratings_disabled                                                    False   \n",
       "video_error_or_removed                                              False   \n",
       "\n",
       "                                                                    14183  \\\n",
       "title                   When you and your mates go snow boarding for t...   \n",
       "channel_title                                                  Funny News   \n",
       "publish_time                                    2018-01-22 00:08:49+00:00   \n",
       "trending_date                                   2018-01-24 00:00:00+00:00   \n",
       "category_id                                                            22   \n",
       "category                                                   People & Blogs   \n",
       "description             Lol - Subscribe to my new channel that will co...   \n",
       "tags                                                                 None   \n",
       "views                                                              531511   \n",
       "likes                                                                4626   \n",
       "dislikes                                                              169   \n",
       "comment_count                                                         350   \n",
       "comments_disabled                                                   False   \n",
       "ratings_disabled                                                    False   \n",
       "video_error_or_removed                                              False   \n",
       "\n",
       "                                                                    26869  \n",
       "title                              Dem beats (ft. rupaul) by todrick hall  \n",
       "channel_title                                                 todrickhall  \n",
       "publish_time                                    2018-03-22 22:16:17+00:00  \n",
       "trending_date                                   2018-04-07 00:00:00+00:00  \n",
       "category_id                                                            24  \n",
       "category                                                    Entertainment  \n",
       "description             DOWNLOAD DEM BEATS on iTunes: https://itunes.a...  \n",
       "tags                    [todrick hall, mtv, american idol, beyonce, fl...  \n",
       "views                                                             1537417  \n",
       "likes                                                               64534  \n",
       "dislikes                                                             1877  \n",
       "comment_count                                                        4321  \n",
       "comments_disabled                                                   False  \n",
       "ratings_disabled                                                    False  \n",
       "video_error_or_removed                                              False  "
      ]
     },
     "execution_count": 77,
     "metadata": {},
     "output_type": "execute_result"
    }
   ],
   "source": [
    "df.sample(3).T"
   ]
  },
  {
   "cell_type": "markdown",
   "id": "e040003e-abc2-469f-b8e2-dcd33dae9f5d",
   "metadata": {},
   "source": [
    "## Sort the dataset by publish_time"
   ]
  },
  {
   "cell_type": "code",
   "execution_count": 34,
   "id": "30802be4-0206-4184-873f-6c217a6f59d3",
   "metadata": {},
   "outputs": [],
   "source": [
    "df = df.sort_values('publish_time').reset_index(drop = True)"
   ]
  },
  {
   "cell_type": "markdown",
   "id": "4a1adc43-1c3c-4278-ab2c-fcad93819330",
   "metadata": {},
   "source": [
    "## Export to csv"
   ]
  },
  {
   "cell_type": "code",
   "execution_count": 35,
   "id": "43108cf2-b2e5-43f8-a1cf-00e08a15731f",
   "metadata": {},
   "outputs": [],
   "source": [
    "df.to_csv('clean_USA_youtube_top_trending_videos.csv', index=False)"
   ]
  },
  {
   "cell_type": "code",
   "execution_count": 36,
   "id": "3e712dab-3ea7-4b7f-9d23-00929e5fc1c7",
   "metadata": {},
   "outputs": [
    {
     "data": {
      "text/plain": [
       "Index(['title', 'channel_title', 'publish_time', 'trending_date',\n",
       "       'category_id', 'category', 'description', 'tags', 'views', 'likes',\n",
       "       'dislikes', 'comment_count', 'comments_disabled', 'ratings_disabled',\n",
       "       'video_error_or_removed'],\n",
       "      dtype='object')"
      ]
     },
     "execution_count": 36,
     "metadata": {},
     "output_type": "execute_result"
    }
   ],
   "source": [
    "df.columns"
   ]
  },
  {
   "cell_type": "markdown",
   "id": "e1d16ff4-45f2-4a41-ab5d-e74aaec2fb46",
   "metadata": {},
   "source": [
    "# Data Analysis"
   ]
  },
  {
   "cell_type": "markdown",
   "id": "9fbb0b8c-d685-4463-b9fa-ee12a8752a10",
   "metadata": {},
   "source": [
    "## 1. What are the top 10 most viewed videos?"
   ]
  },
  {
   "cell_type": "code",
   "execution_count": 37,
   "id": "70f7b09b-3b47-406c-80d0-ecb57e6c277b",
   "metadata": {},
   "outputs": [
    {
     "data": {
      "text/html": [
       "<div>\n",
       "<style scoped>\n",
       "    .dataframe tbody tr th:only-of-type {\n",
       "        vertical-align: middle;\n",
       "    }\n",
       "\n",
       "    .dataframe tbody tr th {\n",
       "        vertical-align: top;\n",
       "    }\n",
       "\n",
       "    .dataframe thead th {\n",
       "        text-align: right;\n",
       "    }\n",
       "</style>\n",
       "<table border=\"1\" class=\"dataframe\">\n",
       "  <thead>\n",
       "    <tr style=\"text-align: right;\">\n",
       "      <th></th>\n",
       "      <th>title</th>\n",
       "      <th>channel_title</th>\n",
       "      <th>views</th>\n",
       "    </tr>\n",
       "  </thead>\n",
       "  <tbody>\n",
       "    <tr>\n",
       "      <th>0</th>\n",
       "      <td>Childish gambino - this is america (official v...</td>\n",
       "      <td>ChildishGambinoVEVO</td>\n",
       "      <td>225211923</td>\n",
       "    </tr>\n",
       "    <tr>\n",
       "      <th>1</th>\n",
       "      <td>Childish gambino - this is america (official v...</td>\n",
       "      <td>ChildishGambinoVEVO</td>\n",
       "      <td>220490543</td>\n",
       "    </tr>\n",
       "    <tr>\n",
       "      <th>2</th>\n",
       "      <td>Childish gambino - this is america (official v...</td>\n",
       "      <td>ChildishGambinoVEVO</td>\n",
       "      <td>217750076</td>\n",
       "    </tr>\n",
       "    <tr>\n",
       "      <th>3</th>\n",
       "      <td>Childish gambino - this is america (official v...</td>\n",
       "      <td>ChildishGambinoVEVO</td>\n",
       "      <td>210338856</td>\n",
       "    </tr>\n",
       "    <tr>\n",
       "      <th>4</th>\n",
       "      <td>Childish gambino - this is america (official v...</td>\n",
       "      <td>ChildishGambinoVEVO</td>\n",
       "      <td>205643016</td>\n",
       "    </tr>\n",
       "    <tr>\n",
       "      <th>5</th>\n",
       "      <td>Childish gambino - this is america (official v...</td>\n",
       "      <td>ChildishGambinoVEVO</td>\n",
       "      <td>200820941</td>\n",
       "    </tr>\n",
       "    <tr>\n",
       "      <th>6</th>\n",
       "      <td>Childish gambino - this is america (official v...</td>\n",
       "      <td>ChildishGambinoVEVO</td>\n",
       "      <td>196222618</td>\n",
       "    </tr>\n",
       "    <tr>\n",
       "      <th>7</th>\n",
       "      <td>Childish gambino - this is america (official v...</td>\n",
       "      <td>ChildishGambinoVEVO</td>\n",
       "      <td>190950401</td>\n",
       "    </tr>\n",
       "    <tr>\n",
       "      <th>8</th>\n",
       "      <td>Childish gambino - this is america (official v...</td>\n",
       "      <td>ChildishGambinoVEVO</td>\n",
       "      <td>184446490</td>\n",
       "    </tr>\n",
       "    <tr>\n",
       "      <th>9</th>\n",
       "      <td>Childish gambino - this is america (official v...</td>\n",
       "      <td>ChildishGambinoVEVO</td>\n",
       "      <td>179045286</td>\n",
       "    </tr>\n",
       "  </tbody>\n",
       "</table>\n",
       "</div>"
      ],
      "text/plain": [
       "                                               title        channel_title  \\\n",
       "0  Childish gambino - this is america (official v...  ChildishGambinoVEVO   \n",
       "1  Childish gambino - this is america (official v...  ChildishGambinoVEVO   \n",
       "2  Childish gambino - this is america (official v...  ChildishGambinoVEVO   \n",
       "3  Childish gambino - this is america (official v...  ChildishGambinoVEVO   \n",
       "4  Childish gambino - this is america (official v...  ChildishGambinoVEVO   \n",
       "5  Childish gambino - this is america (official v...  ChildishGambinoVEVO   \n",
       "6  Childish gambino - this is america (official v...  ChildishGambinoVEVO   \n",
       "7  Childish gambino - this is america (official v...  ChildishGambinoVEVO   \n",
       "8  Childish gambino - this is america (official v...  ChildishGambinoVEVO   \n",
       "9  Childish gambino - this is america (official v...  ChildishGambinoVEVO   \n",
       "\n",
       "       views  \n",
       "0  225211923  \n",
       "1  220490543  \n",
       "2  217750076  \n",
       "3  210338856  \n",
       "4  205643016  \n",
       "5  200820941  \n",
       "6  196222618  \n",
       "7  190950401  \n",
       "8  184446490  \n",
       "9  179045286  "
      ]
     },
     "execution_count": 37,
     "metadata": {},
     "output_type": "execute_result"
    }
   ],
   "source": [
    "df.sort_values('views', ascending=False)[:10][['title', 'channel_title', 'views']].reset_index(drop=True)"
   ]
  },
  {
   "cell_type": "markdown",
   "id": "6824c5b9-79cc-4b4f-856d-95adfd6192d8",
   "metadata": {},
   "source": [
    "Although numerically correct, all these videos belong to the same channel and title.  \n",
    "I want a list of the top 10 most viewed and different videos."
   ]
  },
  {
   "cell_type": "code",
   "execution_count": 38,
   "id": "71f6ade3-c0cb-4724-bf09-98175feadc0a",
   "metadata": {
    "scrolled": true
   },
   "outputs": [],
   "source": [
    "#get the list of videos, sorted from most to least views. Take only title, channel and number of views\n",
    "videos = df.sort_values('views', ascending=False)[['title', 'channel_title', 'views']].reset_index(drop=True)\n",
    "\n",
    "# store the first top video\n",
    "top_ten_videos = videos.iloc[0].to_frame().transpose()\n",
    "\n",
    "# counter of videos added to top10\n",
    "top10_count = 1\n",
    "\n",
    "# counter to traverse the videos dataframe\n",
    "counter = 1 \n",
    "\n",
    "# fill in with the next 9 videos of top10\n",
    "while top10_count < 10:\n",
    "    \n",
    "    # check if next video is the same as previous one\n",
    "    same_video = (videos.iloc[counter].title == top_ten_videos.iloc[top10_count-1].title )\n",
    "    \n",
    "    if not same_video:\n",
    "            # add the next most viewed video\n",
    "            top_ten_videos = pd.concat( [top_ten_videos,\n",
    "                                         videos.iloc[counter].to_frame().transpose()\n",
    "                                        ] , axis=0).reset_index(drop=True)\n",
    "            top10_count +=1  # increase the count of top10 videos added\n",
    "    counter += 1  # increase the counter of videos to keep on searching"
   ]
  },
  {
   "cell_type": "code",
   "execution_count": 39,
   "id": "0ee36667-ec82-46a3-b17d-86ef4c3aa94c",
   "metadata": {},
   "outputs": [
    {
     "data": {
      "text/html": [
       "<div>\n",
       "<style scoped>\n",
       "    .dataframe tbody tr th:only-of-type {\n",
       "        vertical-align: middle;\n",
       "    }\n",
       "\n",
       "    .dataframe tbody tr th {\n",
       "        vertical-align: top;\n",
       "    }\n",
       "\n",
       "    .dataframe thead th {\n",
       "        text-align: right;\n",
       "    }\n",
       "</style>\n",
       "<table border=\"1\" class=\"dataframe\">\n",
       "  <thead>\n",
       "    <tr style=\"text-align: right;\">\n",
       "      <th></th>\n",
       "      <th>title</th>\n",
       "      <th>channel_title</th>\n",
       "      <th>views</th>\n",
       "    </tr>\n",
       "  </thead>\n",
       "  <tbody>\n",
       "    <tr>\n",
       "      <th>0</th>\n",
       "      <td>Childish gambino - this is america (official v...</td>\n",
       "      <td>ChildishGambinoVEVO</td>\n",
       "      <td>225211923</td>\n",
       "    </tr>\n",
       "    <tr>\n",
       "      <th>1</th>\n",
       "      <td>Youtube rewind: the shape of 2017 | #youtubere...</td>\n",
       "      <td>YouTube Spotlight</td>\n",
       "      <td>149376127</td>\n",
       "    </tr>\n",
       "    <tr>\n",
       "      <th>2</th>\n",
       "      <td>Ariana grande - no tears left to cry</td>\n",
       "      <td>ArianaGrandeVevo</td>\n",
       "      <td>148689896</td>\n",
       "    </tr>\n",
       "    <tr>\n",
       "      <th>3</th>\n",
       "      <td>Childish gambino - this is america (official v...</td>\n",
       "      <td>ChildishGambinoVEVO</td>\n",
       "      <td>142421830</td>\n",
       "    </tr>\n",
       "    <tr>\n",
       "      <th>4</th>\n",
       "      <td>Becky g, natti natasha - sin pijama (official ...</td>\n",
       "      <td>BeckyGVEVO</td>\n",
       "      <td>139334502</td>\n",
       "    </tr>\n",
       "    <tr>\n",
       "      <th>5</th>\n",
       "      <td>Youtube rewind: the shape of 2017 | #youtubere...</td>\n",
       "      <td>YouTube Spotlight</td>\n",
       "      <td>137843120</td>\n",
       "    </tr>\n",
       "    <tr>\n",
       "      <th>6</th>\n",
       "      <td>Childish gambino - this is america (official v...</td>\n",
       "      <td>ChildishGambinoVEVO</td>\n",
       "      <td>134839555</td>\n",
       "    </tr>\n",
       "    <tr>\n",
       "      <th>7</th>\n",
       "      <td>Youtube rewind: the shape of 2017 | #youtubere...</td>\n",
       "      <td>YouTube Spotlight</td>\n",
       "      <td>125432237</td>\n",
       "    </tr>\n",
       "    <tr>\n",
       "      <th>8</th>\n",
       "      <td>Bts (방탄소년단) 'fake love' official mv</td>\n",
       "      <td>ibighit</td>\n",
       "      <td>123010920</td>\n",
       "    </tr>\n",
       "    <tr>\n",
       "      <th>9</th>\n",
       "      <td>Ariana grande - no tears left to cry</td>\n",
       "      <td>ArianaGrandeVevo</td>\n",
       "      <td>122581156</td>\n",
       "    </tr>\n",
       "  </tbody>\n",
       "</table>\n",
       "</div>"
      ],
      "text/plain": [
       "                                               title        channel_title  \\\n",
       "0  Childish gambino - this is america (official v...  ChildishGambinoVEVO   \n",
       "1  Youtube rewind: the shape of 2017 | #youtubere...    YouTube Spotlight   \n",
       "2               Ariana grande - no tears left to cry     ArianaGrandeVevo   \n",
       "3  Childish gambino - this is america (official v...  ChildishGambinoVEVO   \n",
       "4  Becky g, natti natasha - sin pijama (official ...           BeckyGVEVO   \n",
       "5  Youtube rewind: the shape of 2017 | #youtubere...    YouTube Spotlight   \n",
       "6  Childish gambino - this is america (official v...  ChildishGambinoVEVO   \n",
       "7  Youtube rewind: the shape of 2017 | #youtubere...    YouTube Spotlight   \n",
       "8                Bts (방탄소년단) 'fake love' official mv              ibighit   \n",
       "9               Ariana grande - no tears left to cry     ArianaGrandeVevo   \n",
       "\n",
       "       views  \n",
       "0  225211923  \n",
       "1  149376127  \n",
       "2  148689896  \n",
       "3  142421830  \n",
       "4  139334502  \n",
       "5  137843120  \n",
       "6  134839555  \n",
       "7  125432237  \n",
       "8  123010920  \n",
       "9  122581156  "
      ]
     },
     "execution_count": 39,
     "metadata": {},
     "output_type": "execute_result"
    }
   ],
   "source": [
    "top_ten_videos"
   ]
  },
  {
   "cell_type": "markdown",
   "id": "bef66f93-4182-40b2-930e-4db1d9475cff",
   "metadata": {},
   "source": [
    "## 2. Is there a correlation between the number of likes and views?"
   ]
  },
  {
   "cell_type": "code",
   "execution_count": 40,
   "id": "2b2cab65-ec53-4a11-b42d-a40f557ff5bc",
   "metadata": {},
   "outputs": [],
   "source": [
    "data = df[['views', 'likes']] "
   ]
  },
  {
   "cell_type": "markdown",
   "id": "d3d567db-df9b-4701-85ee-d2f09372613a",
   "metadata": {},
   "source": [
    "### Linear regression  \n",
    "Followed [this tutorial at realpython.com](https://realpython.com/linear-regression-in-python/#simple-linear-regression)"
   ]
  },
  {
   "cell_type": "code",
   "execution_count": 41,
   "id": "9b37e8a8-4fa3-4674-a69e-a8bbf30acca2",
   "metadata": {},
   "outputs": [],
   "source": [
    "# if not installed, uncomment and run this command to install library\n",
    "#!pip install scikit-learn"
   ]
  },
  {
   "cell_type": "code",
   "execution_count": 42,
   "id": "f799388b-dda3-499b-aff8-8492896e495a",
   "metadata": {},
   "outputs": [],
   "source": [
    "from sklearn.linear_model import LinearRegression"
   ]
  },
  {
   "cell_type": "code",
   "execution_count": 43,
   "id": "4c403775-dda8-4ccd-a472-7e1866cc2503",
   "metadata": {},
   "outputs": [],
   "source": [
    "# x because this array must be two-dimensional, or more precisely, it must have one column and as many rows as necessary.\n",
    "# That’s exactly what the argument (-1, 1) of .reshape() specifies.\n",
    "x = np.array(data.views * 1E-6).reshape((-1, 1))\n",
    "y = np.array(data.likes * 1E-6)\n",
    "model = LinearRegression().fit(x, y)"
   ]
  },
  {
   "cell_type": "markdown",
   "id": "b5b69f6b-45f6-4059-a5fe-74d2ad0c9548",
   "metadata": {},
   "source": [
    "Once the linear regression is done, I want to have the intercept (`.intercept_`) and slope (`.coef_`) values, as well as the determination coefficient 𝑅² (`.score()`)."
   ]
  },
  {
   "cell_type": "code",
   "execution_count": 44,
   "id": "30f91472-65e4-4b1b-8c82-05e206172ccd",
   "metadata": {},
   "outputs": [],
   "source": [
    "intercept = model.intercept_\n",
    "slope = model.coef_[0]\n",
    "det_coef = model.score(x,y)"
   ]
  },
  {
   "cell_type": "markdown",
   "id": "05b90b73-14f1-4136-9aa8-c158b6f2f8a7",
   "metadata": {},
   "source": [
    "Results of the linear regresssion:"
   ]
  },
  {
   "cell_type": "code",
   "execution_count": 45,
   "id": "d5a3acee-2867-4551-ad02-6ee621d9419a",
   "metadata": {},
   "outputs": [
    {
     "name": "stdout",
     "output_type": "stream",
     "text": [
      "Linear regression: y = 0.026 · x + 0.012\n",
      "Determination coefficient (for goodness of linear regression) is: 0.721\n"
     ]
    }
   ],
   "source": [
    "print(f'Linear regression: y = {slope.round(3)} · x + {intercept.round(3)}')\n",
    "print(f'Determination coefficient (for goodness of linear regression) is: {det_coef.round(3)}')"
   ]
  },
  {
   "cell_type": "code",
   "execution_count": 46,
   "id": "aecf8924-f1fe-4efc-9f40-166c0f8dc2dd",
   "metadata": {},
   "outputs": [],
   "source": [
    "estimated_likes = np.array(data.views) * slope + intercept"
   ]
  },
  {
   "cell_type": "code",
   "execution_count": 47,
   "id": "8b6ae47c-b28e-4d9c-9fd9-90e672fdff89",
   "metadata": {},
   "outputs": [
    {
     "data": {
      "image/png": "[encoded data removed]",
      "text/plain": [
       "<Figure size 800x500 with 1 Axes>"
      ]
     },
     "metadata": {},
     "output_type": "display_data"
    }
   ],
   "source": [
    "fig, ax = plt.subplots(figsize=(8,5))\n",
    "ax.scatter(data.views * 1E-6, data.likes * 1E-6, s=5, alpha=0.5, edgecolor='darkturquoise', facecolor='none', marker='^')\n",
    "ax.plot(data.views * 1E-6, estimated_likes * 1E-6, lw=1, ls='dashdot', color='red')\n",
    "ax.set_xlabel('Number of views, MM')\n",
    "ax.set_ylabel('Number of likes, MM')\n",
    "ax.set_title('Relationship between number of views and likes')\n",
    "# add linear model equation to plot\n",
    "plt.text(150, 3, f'$y = {slope.round(3)}x + {intercept.round(3)}$', fontsize=12)\n",
    "plt.show()"
   ]
  },
  {
   "cell_type": "markdown",
   "id": "2541a517-4e8b-4a23-b31e-662e9c19a287",
   "metadata": {},
   "source": [
    "## 3. How does the distribution of views vary across different categories?"
   ]
  },
  {
   "cell_type": "code",
   "execution_count": 48,
   "id": "78529ef2-4611-48fd-bcd1-aeb6903f25af",
   "metadata": {},
   "outputs": [],
   "source": [
    "data =df.groupby('category').views.count().sort_values(ascending = False)"
   ]
  },
  {
   "cell_type": "code",
   "execution_count": 49,
   "id": "a8f2c093-8b52-47c2-9e76-536aa92263f0",
   "metadata": {},
   "outputs": [
    {
     "data": {
      "image/png": "[encoded data removed]",
      "text/plain": [
       "<Figure size 800x500 with 1 Axes>"
      ]
     },
     "metadata": {},
     "output_type": "display_data"
    }
   ],
   "source": [
    "fig, ax = plt.subplots(figsize=(8,5))\n",
    "ax.barh(data.index, data.values, color='purple')\n",
    "ax.invert_yaxis()\n",
    "ax.set_xlabel('Total number of views')\n",
    "ax.set_title('Total views by video category')\n",
    "plt.show()"
   ]
  },
  {
   "cell_type": "markdown",
   "id": "7435732b-9ed9-4872-aac4-0d32d9571b6e",
   "metadata": {},
   "source": [
    "## 4.  Are there any trends in the number of likes and dislikes over time?"
   ]
  },
  {
   "cell_type": "code",
   "execution_count": 50,
   "id": "80fa1f14-1996-4809-a32c-de350e7e1ce5",
   "metadata": {},
   "outputs": [],
   "source": [
    "likes_trend = df[['trending_date', 'likes', 'dislikes']]"
   ]
  },
  {
   "cell_type": "code",
   "execution_count": 51,
   "id": "375c1ea3-11b4-4c05-9376-242ad55b2a88",
   "metadata": {},
   "outputs": [
    {
     "name": "stderr",
     "output_type": "stream",
     "text": [
      "/tmp/ipykernel_17029/75802284.py:1: SettingWithCopyWarning: \n",
      "A value is trying to be set on a copy of a slice from a DataFrame.\n",
      "Try using .loc[row_indexer,col_indexer] = value instead\n",
      "\n",
      "See the caveats in the documentation: https://pandas.pydata.org/pandas-docs/stable/user_guide/indexing.html#returning-a-view-versus-a-copy\n",
      "  likes_trend.loc[:,'date'] = likes_trend.trending_date.dt.strftime('%m-%Y')\n"
     ]
    }
   ],
   "source": [
    "likes_trend.loc[:,'date'] = likes_trend.trending_date.dt.strftime('%m-%Y')"
   ]
  },
  {
   "cell_type": "code",
   "execution_count": 52,
   "id": "658bd021-c12b-4600-a2a7-8b230e2dd177",
   "metadata": {},
   "outputs": [],
   "source": [
    "data = likes_trend.groupby('date')[['likes', 'dislikes']].sum()"
   ]
  },
  {
   "cell_type": "code",
   "execution_count": 53,
   "id": "56a182e3-f406-4007-a966-947ca0642ab7",
   "metadata": {},
   "outputs": [
    {
     "data": {
      "image/png": "[encoded data removed]",
      "text/plain": [
       "<Figure size 1200x500 with 2 Axes>"
      ]
     },
     "metadata": {},
     "output_type": "display_data"
    }
   ],
   "source": [
    "fig, ax = plt.subplots(figsize=(12,5))\n",
    "ax.plot(data.index, data.likes*1E-6, color='green', label='likes')\n",
    "ax.set_ylabel('No. likes, Millions')\n",
    "ax2 = ax.twinx()\n",
    "ax2.plot(data.index, data.dislikes*1E-6, color='red', label='dislikes')\n",
    "ax2.set_ylabel('No. dislikes, Millions')\n",
    "ax.set_title('Number of likes and dislikes across the studied period')\n",
    "ax.legend()\n",
    "plt.show()"
   ]
  },
  {
   "cell_type": "markdown",
   "id": "ac0673e4-6497-4f99-939a-5c02505b41f1",
   "metadata": {},
   "source": [
    "## 5.  Which channels have the highest average views per video?"
   ]
  },
  {
   "cell_type": "markdown",
   "id": "b11c84a2-8967-4936-a64b-13336bb387c1",
   "metadata": {},
   "source": [
    "Each video may have repeated values for different number of views, due to the fact that they entered and went out of the trending videos list. I will take the maximum number of views per each unique video. Then I will work out the average views number per channel."
   ]
  },
  {
   "cell_type": "code",
   "execution_count": 54,
   "id": "02a8429f-5de9-4b8c-9d9c-fdedbe6af13b",
   "metadata": {},
   "outputs": [],
   "source": [
    "# max number of views per unique video\n",
    "videos = df[['channel_title', 'title', 'views']].sort_values('views', ascending = False)\n",
    "# keep only the most viewed register for each unique combination of channel and title\n",
    "videos = videos.drop_duplicates(['channel_title', 'title'])"
   ]
  },
  {
   "cell_type": "markdown",
   "id": "4193e121-6563-4fb6-823d-ade3590ad1ec",
   "metadata": {},
   "source": [
    "Are there channels with more than one video which reached the trending list?"
   ]
  },
  {
   "cell_type": "code",
   "execution_count": 55,
   "id": "1195a75e-299b-400c-8d0c-20b677f6a8f9",
   "metadata": {},
   "outputs": [
    {
     "data": {
      "text/plain": [
       "channel_title\n",
       "ESPN                                      84\n",
       "TheEllenShow                              74\n",
       "The Tonight Show Starring Jimmy Fallon    72\n",
       "Jimmy Kimmel Live                         70\n",
       "The Late Show with Stephen Colbert        58\n",
       "                                          ..\n",
       "cicigoodies2011                            1\n",
       "marjolijn2                                 1\n",
       "Highsnobiety                               1\n",
       "yeokm1                                     1\n",
       "GoDucksdotcom                              1\n",
       "Name: count, Length: 2207, dtype: int64"
      ]
     },
     "execution_count": 55,
     "metadata": {},
     "output_type": "execute_result"
    }
   ],
   "source": [
    "videos.channel_title.value_counts().sort_values(ascending = False)"
   ]
  },
  {
   "cell_type": "code",
   "execution_count": 56,
   "id": "3fd14af1-ae5b-47b2-8ade-d0edaf0321bb",
   "metadata": {},
   "outputs": [],
   "source": [
    "top_avg_views_by_channel = videos.groupby('channel_title').views.mean().sort_values(ascending=False)"
   ]
  },
  {
   "cell_type": "code",
   "execution_count": 57,
   "id": "4c048365-e124-4f32-bc9d-7d7ebbf588b5",
   "metadata": {},
   "outputs": [
    {
     "data": {
      "image/png": "[encoded data removed]",
      "text/plain": [
       "<Figure size 800x500 with 1 Axes>"
      ]
     },
     "metadata": {},
     "output_type": "display_data"
    }
   ],
   "source": [
    "data = top_avg_views_by_channel.copy()\n",
    "fig, ax = plt.subplots(figsize=(8,5))\n",
    "ax.barh(data.index[:10], data.values[:10]*1E-6, color='purple')\n",
    "ax.invert_yaxis()\n",
    "ax.set_xlabel('Average number of views, millions')\n",
    "ax.set_ylabel('Youtube Channel')\n",
    "ax.set_title('Average views by youtube channel')\n",
    "plt.show()"
   ]
  },
  {
   "cell_type": "markdown",
   "id": "5453a248-d19a-45ad-9b55-06d33a922ee1",
   "metadata": {},
   "source": [
    "## 6.  What is the average number of days a video remains on the trending list?"
   ]
  },
  {
   "cell_type": "markdown",
   "id": "1fff1c7e-207f-4c96-ac90-a08664bf6958",
   "metadata": {},
   "source": [
    "Difference between `trending_date` and `publish_time`:"
   ]
  },
  {
   "cell_type": "code",
   "execution_count": 58,
   "id": "2889d182-305a-4aa9-8a60-288ed0ca154a",
   "metadata": {},
   "outputs": [],
   "source": [
    "# df.trending_date - df.publish_time"
   ]
  },
  {
   "cell_type": "markdown",
   "id": "813208e8-c2ae-4bf1-8479-f6265efc0da0",
   "metadata": {},
   "source": [
    "It raises and error: `TypeError: Cannot subtract tz-naive and tz-aware datetime-like objects.`"
   ]
  },
  {
   "cell_type": "code",
   "execution_count": 59,
   "id": "5224e6fe-2254-4255-a8e2-500646316b0b",
   "metadata": {},
   "outputs": [
    {
     "data": {
      "text/plain": [
       "dtype('<M8[ns]')"
      ]
     },
     "execution_count": 59,
     "metadata": {},
     "output_type": "execute_result"
    }
   ],
   "source": [
    "df.trending_date.dtype"
   ]
  },
  {
   "cell_type": "code",
   "execution_count": 60,
   "id": "b356d723-8a87-44e6-8cb1-e62acfea004a",
   "metadata": {},
   "outputs": [
    {
     "data": {
      "text/plain": [
       "datetime64[ns, UTC]"
      ]
     },
     "execution_count": 60,
     "metadata": {},
     "output_type": "execute_result"
    }
   ],
   "source": [
    "df.publish_time.dtype"
   ]
  },
  {
   "cell_type": "markdown",
   "id": "9c2094e6-5b7a-4c8c-8b3b-711c09875b1a",
   "metadata": {},
   "source": [
    "The `trending_date` variable is timezone naive type. I will set it to UTC timezone"
   ]
  },
  {
   "cell_type": "code",
   "execution_count": 61,
   "id": "df24beed-9e08-41dc-86a2-c9e007ef8f50",
   "metadata": {},
   "outputs": [],
   "source": [
    "df.trending_date = df.trending_date.dt.tz_localize('UTC')"
   ]
  },
  {
   "cell_type": "code",
   "execution_count": 62,
   "id": "37cbcda1-c20e-498f-8707-c0f8580ac8a9",
   "metadata": {},
   "outputs": [],
   "source": [
    "interval_trend_publish = df.trending_date - df.publish_time"
   ]
  },
  {
   "cell_type": "markdown",
   "id": "907230fc-f76a-4149-bd42-f7a92ee4f09c",
   "metadata": {},
   "source": [
    "The average number of days a video enters the trending video list is:"
   ]
  },
  {
   "cell_type": "code",
   "execution_count": 64,
   "id": "7f8cb39a-426c-49ef-b41e-ed390098c6de",
   "metadata": {},
   "outputs": [
    {
     "data": {
      "text/plain": [
       "16"
      ]
     },
     "execution_count": 64,
     "metadata": {},
     "output_type": "execute_result"
    }
   ],
   "source": [
    "interval_trend_publish.mean().days"
   ]
  },
  {
   "cell_type": "markdown",
   "id": "427e1b8f-53bc-4c01-b876-efd09070750c",
   "metadata": {},
   "source": [
    "## 7.  Is there a relationship between the number of comments and the number of views?"
   ]
  },
  {
   "cell_type": "markdown",
   "id": "7f0dfbaa-ab2c-4b67-b58b-60fa24899cd2",
   "metadata": {},
   "source": [
    "Since each video, as I noted before, may have repeated values for different number of views, I will take the video with the maximum number of views per each unique video."
   ]
  },
  {
   "cell_type": "code",
   "execution_count": 65,
   "id": "05952148-fba0-4ae0-ae53-808b4e48a340",
   "metadata": {},
   "outputs": [],
   "source": [
    "# max number of views per unique video\n",
    "videos = df[['channel_title', 'title', 'views', 'comment_count']].sort_values('views', ascending = False)\n",
    "# keep only the most viewed register for each unique combination of channel and title\n",
    "videos = videos.drop_duplicates(['channel_title', 'title'])"
   ]
  },
  {
   "cell_type": "markdown",
   "id": "266863f2-1c82-41b0-99c5-673a002c7cb3",
   "metadata": {},
   "source": [
    "Get the number of views and comments per video:"
   ]
  },
  {
   "cell_type": "code",
   "execution_count": 66,
   "id": "21988a35-a2c3-4697-a203-4caa3bd2021e",
   "metadata": {},
   "outputs": [],
   "source": [
    "data = videos.set_index(['channel_title', 'title'])[['comment_count', 'views']]"
   ]
  },
  {
   "cell_type": "code",
   "execution_count": 67,
   "id": "d14b43ef-b814-4ccd-8683-60c434f1a07d",
   "metadata": {},
   "outputs": [
    {
     "data": {
      "text/html": [
       "<div>\n",
       "<style scoped>\n",
       "    .dataframe tbody tr th:only-of-type {\n",
       "        vertical-align: middle;\n",
       "    }\n",
       "\n",
       "    .dataframe tbody tr th {\n",
       "        vertical-align: top;\n",
       "    }\n",
       "\n",
       "    .dataframe thead th {\n",
       "        text-align: right;\n",
       "    }\n",
       "</style>\n",
       "<table border=\"1\" class=\"dataframe\">\n",
       "  <thead>\n",
       "    <tr style=\"text-align: right;\">\n",
       "      <th></th>\n",
       "      <th></th>\n",
       "      <th>comment_count</th>\n",
       "      <th>views</th>\n",
       "    </tr>\n",
       "    <tr>\n",
       "      <th>channel_title</th>\n",
       "      <th>title</th>\n",
       "      <th></th>\n",
       "      <th></th>\n",
       "    </tr>\n",
       "  </thead>\n",
       "  <tbody>\n",
       "    <tr>\n",
       "      <th>ChildishGambinoVEVO</th>\n",
       "      <th>Childish gambino - this is america (official video)</th>\n",
       "      <td>517232</td>\n",
       "      <td>225211923</td>\n",
       "    </tr>\n",
       "    <tr>\n",
       "      <th>YouTube Spotlight</th>\n",
       "      <th>Youtube rewind: the shape of 2017 | #youtuberewind</th>\n",
       "      <td>810698</td>\n",
       "      <td>149376127</td>\n",
       "    </tr>\n",
       "    <tr>\n",
       "      <th>ArianaGrandeVevo</th>\n",
       "      <th>Ariana grande - no tears left to cry</th>\n",
       "      <td>242039</td>\n",
       "      <td>148689896</td>\n",
       "    </tr>\n",
       "    <tr>\n",
       "      <th>BeckyGVEVO</th>\n",
       "      <th>Becky g, natti natasha - sin pijama (official video)</th>\n",
       "      <td>83941</td>\n",
       "      <td>139334502</td>\n",
       "    </tr>\n",
       "    <tr>\n",
       "      <th>ibighit</th>\n",
       "      <th>Bts (방탄소년단) 'fake love' official mv</th>\n",
       "      <td>1228655</td>\n",
       "      <td>123010920</td>\n",
       "    </tr>\n",
       "  </tbody>\n",
       "</table>\n",
       "</div>"
      ],
      "text/plain": [
       "                                                                        comment_count  \\\n",
       "channel_title       title                                                               \n",
       "ChildishGambinoVEVO Childish gambino - this is america (official vi...         517232   \n",
       "YouTube Spotlight   Youtube rewind: the shape of 2017 | #youtuberewind         810698   \n",
       "ArianaGrandeVevo    Ariana grande - no tears left to cry                       242039   \n",
       "BeckyGVEVO          Becky g, natti natasha - sin pijama (official v...          83941   \n",
       "ibighit             Bts (방탄소년단) 'fake love' official mv                       1228655   \n",
       "\n",
       "                                                                            views  \n",
       "channel_title       title                                                          \n",
       "ChildishGambinoVEVO Childish gambino - this is america (official vi...  225211923  \n",
       "YouTube Spotlight   Youtube rewind: the shape of 2017 | #youtuberewind  149376127  \n",
       "ArianaGrandeVevo    Ariana grande - no tears left to cry                148689896  \n",
       "BeckyGVEVO          Becky g, natti natasha - sin pijama (official v...  139334502  \n",
       "ibighit             Bts (방탄소년단) 'fake love' official mv                 123010920  "
      ]
     },
     "execution_count": 67,
     "metadata": {},
     "output_type": "execute_result"
    }
   ],
   "source": [
    "data.head()"
   ]
  },
  {
   "cell_type": "code",
   "execution_count": 68,
   "id": "7f19b846-0e25-4d30-9bcc-99052e651546",
   "metadata": {},
   "outputs": [],
   "source": [
    "# x because this array must be two-dimensional, or more precisely, it must have one column and as many rows as necessary.\n",
    "# That’s exactly what the argument (-1, 1) of .reshape() specifies.\n",
    "x = np.array(data.views).reshape((-1, 1))\n",
    "y = np.array(data.comment_count)\n",
    "model = LinearRegression().fit(x, y)"
   ]
  },
  {
   "cell_type": "markdown",
   "id": "7ad7d28f-fafc-4d7f-a7a1-cff045c0e6e2",
   "metadata": {},
   "source": [
    "Once the linear regression is done, I want to have the intercept (`.intercept_`) and slope (`.coef_`) values, as well as the determination coefficient 𝑅² (`.score()`)."
   ]
  },
  {
   "cell_type": "code",
   "execution_count": 69,
   "id": "033b3c62-16f4-4605-a685-70c658a2e151",
   "metadata": {},
   "outputs": [],
   "source": [
    "intercept = model.intercept_\n",
    "slope = model.coef_[0]\n",
    "det_coef = model.score(x,y)"
   ]
  },
  {
   "cell_type": "markdown",
   "id": "e97c2be2-fe06-483b-83d6-2560544a20de",
   "metadata": {},
   "source": [
    "Results of the linear regresssion:"
   ]
  },
  {
   "cell_type": "code",
   "execution_count": 70,
   "id": "9f92cf2c-07cb-483f-a5ba-4a09b937f9eb",
   "metadata": {},
   "outputs": [
    {
     "name": "stdout",
     "output_type": "stream",
     "text": [
      "Linear regression: y = 0.003 · x + 1041.837\n",
      "Determination coefficient (for goodness of linear regression) is: 0.329\n"
     ]
    }
   ],
   "source": [
    "print(f'Linear regression: y = {slope.round(3)} · x + {intercept.round(3)}')\n",
    "print(f'Determination coefficient (for goodness of linear regression) is: {det_coef.round(3)}')"
   ]
  },
  {
   "cell_type": "code",
   "execution_count": 71,
   "id": "8129a953-39c4-4747-a534-0daada487805",
   "metadata": {},
   "outputs": [],
   "source": [
    "estimated_comment_count = np.array(data.views) * slope + intercept"
   ]
  },
  {
   "cell_type": "code",
   "execution_count": 72,
   "id": "809d9d82-e839-43aa-8b46-884adea659f9",
   "metadata": {},
   "outputs": [
    {
     "data": {
      "image/png": "[encoded data removed]",
      "text/plain": [
       "<Figure size 800x500 with 1 Axes>"
      ]
     },
     "metadata": {},
     "output_type": "display_data"
    }
   ],
   "source": [
    "fig, ax = plt.subplots(figsize=(8,5))\n",
    "ax.scatter((data.views * 1E-6), (data.comment_count * 1E-6), s=5, alpha=0.5, edgecolor='darkturquoise', facecolor='none', marker='^')\n",
    "ax.plot((data.views * 1E-6), (estimated_comment_count * 1E-6), lw=1, ls='dashdot', color='red')\n",
    "ax.set_xlabel('Number of views, Millions')\n",
    "ax.set_ylabel('Number of comments, Millions')\n",
    "ax.set_title('Relationship between number of views and comments')\n",
    "# add linear model equation to plot\n",
    "plt.text(100, 0.6, r'$y = 0.026x + 12210.357$', fontsize=12)\n",
    "plt.show()"
   ]
  },
  {
   "cell_type": "markdown",
   "id": "1ac179a0-6a31-4fca-9b7a-c335b8cfe6ed",
   "metadata": {},
   "source": [
    "## 8. Do videos with disabled comments or ratings tend to have more or fewer views?"
   ]
  },
  {
   "cell_type": "code",
   "execution_count": 73,
   "id": "1605bb8c-93e6-4002-a92e-9ef6ed221bef",
   "metadata": {},
   "outputs": [],
   "source": [
    "# max number of views per unique video\n",
    "videos = df[['channel_title', 'title', 'views', 'comments_disabled', 'ratings_disabled']].sort_values('views', ascending = False)\n",
    "# keep only the most viewed register for each unique combination of channel and title\n",
    "videos = videos.drop_duplicates(['channel_title', 'title'])"
   ]
  },
  {
   "cell_type": "markdown",
   "id": "a1d2ca64-49f4-4b83-971e-7c668f56d45a",
   "metadata": {},
   "source": [
    "Get the number of views and comments per video:"
   ]
  },
  {
   "cell_type": "code",
   "execution_count": 74,
   "id": "716d6a59-fadf-4f2c-bea2-ff2bb05ba6dc",
   "metadata": {},
   "outputs": [],
   "source": [
    "data = videos.set_index(['channel_title', 'title'])[['comments_disabled', 'ratings_disabled', 'views']]\n",
    "data_comments = data.groupby('comments_disabled').views.sum()\n",
    "data_ratings = data.groupby('ratings_disabled').views.sum()"
   ]
  },
  {
   "cell_type": "code",
   "execution_count": 75,
   "id": "80ddf933-8c5c-429a-8377-0c06a04bce2a",
   "metadata": {},
   "outputs": [],
   "source": [
    "data_comments.index = ['Enabled', 'Disabled']\n",
    "data_ratings.index = ['Enabled', 'Disabled']"
   ]
  },
  {
   "cell_type": "code",
   "execution_count": 76,
   "id": "6f851699-46d4-455f-99f5-3836cab94040",
   "metadata": {},
   "outputs": [
    {
     "data": {
      "image/png": "[encoded data removed]",
      "text/plain": [
       "<Figure size 1000x400 with 2 Axes>"
      ]
     },
     "metadata": {},
     "output_type": "display_data"
    }
   ],
   "source": [
    "fig, ax = plt.subplots(1,2, figsize=(10,4))\n",
    "ax[0].bar(data_comments.index, data_comments.values * 1E-9, label='Comments')\n",
    "ax[0].set_title('Comments')\n",
    "ax[0].set_ylabel('No. videos, Thousands of millions')\n",
    "ax[1].bar(data_ratings.index, data_ratings.values * 1E-9)\n",
    "ax[1].set_ylabel('No. videos, Thousands of millions')\n",
    "ax[1].set_title('Ratings')\n",
    "plt.show()"
   ]
  }
 ],
 "metadata": {
  "kernelspec": {
   "display_name": "Python 3 (ipykernel)",
   "language": "python",
   "name": "python3"
  },
  "language_info": {
   "codemirror_mode": {
    "name": "ipython",
    "version": 3
   },
   "file_extension": ".py",
   "mimetype": "text/x-python",
   "name": "python",
   "nbconvert_exporter": "python",
   "pygments_lexer": "ipython3",
   "version": "3.11.8"
  }
 },
 "nbformat": 4,
 "nbformat_minor": 5
}
